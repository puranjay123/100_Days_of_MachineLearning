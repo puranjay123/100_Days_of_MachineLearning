{
  "nbformat": 4,
  "nbformat_minor": 0,
  "metadata": {
    "colab": {
      "name": "upper_confidene _bound.ipynb",
      "provenance": [],
      "authorship_tag": "ABX9TyON+nbRHwJiJa1J4sdit11x",
      "include_colab_link": true
    },
    "kernelspec": {
      "name": "python3",
      "display_name": "Python 3"
    },
    "language_info": {
      "name": "python"
    }
  },
  "cells": [
    {
      "cell_type": "markdown",
      "metadata": {
        "id": "view-in-github",
        "colab_type": "text"
      },
      "source": [
        "<a href=\"https://colab.research.google.com/github/puranjay123/100_Days_of_MachineLearning/blob/main/upper_confidene__bound.ipynb\" target=\"_parent\"><img src=\"https://colab.research.google.com/assets/colab-badge.svg\" alt=\"Open In Colab\"/></a>"
      ]
    },
    {
      "cell_type": "code",
      "metadata": {
        "id": "ak4jDK7Wwpxx"
      },
      "source": [
        "import numpy as np\n",
        "import pandas as pd\n",
        "import matplotlib.pyplot as plt\n"
      ],
      "execution_count": 4,
      "outputs": []
    },
    {
      "cell_type": "code",
      "metadata": {
        "id": "Go9a3Ry8wxyS"
      },
      "source": [
        "dataset = pd.read_csv('Ads_CTR_Optimisation.csv')\n"
      ],
      "execution_count": 7,
      "outputs": []
    },
    {
      "cell_type": "code",
      "metadata": {
        "id": "QaFAiQRDw749"
      },
      "source": [
        "import math\n",
        "N =10000\n",
        "d = 10\n",
        "ads_selected=[]\n",
        "number_ad_selected = [0]*d\n",
        "sum_of_rewards = [0]*d\n",
        "total_reward = 0\n",
        "for n in range(0,N):\n",
        "  ad = 0\n",
        "  max_upper_bound =0\n",
        "  for i in range(0,d):\n",
        "    if (number_ad_selected[i]>0):\n",
        "      average_reward = sum_of_rewards[i]/number_ad_selected[i]\n",
        "      delta_i = math.sqrt(3/2 *math.log(n+1)/ number_ad_selected[i])\n",
        "      upper_bound = average_reward+ delta_i\n",
        "\n",
        "    else :\n",
        "      upper_bound = 1e400\n",
        "\n",
        "    if (upper_bound> max_upper_bound):\n",
        "      max_upper_bound = upper_bound\n",
        "      ad = i\n",
        "  ads_selected.append(ad)\n",
        "  number_ad_selected[ad] = number_ad_selected[ad]+1\n",
        "  reward = dataset.values[n,ad]\n",
        "  sum_of_rewards[ad] = sum_of_rewards[ad]+reward\n",
        "  total_reward = total_reward+reward\n"
      ],
      "execution_count": 10,
      "outputs": []
    },
    {
      "cell_type": "code",
      "metadata": {
        "colab": {
          "base_uri": "https://localhost:8080/",
          "height": 335
        },
        "id": "O6j9dWLM2Lm-",
        "outputId": "948dc87b-8b59-43f9-ac60-fdcb9f433e89"
      },
      "source": [
        "plt.hist(ads_selected)\n",
        "plt.title('Histogram of ads selections')\n",
        "plt.xlabel('Ads')\n",
        "plt.ylabel('Number of times each ad was selected')\n",
        "plt.show()"
      ],
      "execution_count": 11,
      "outputs": [
        {
          "output_type": "execute_result",
          "data": {
            "text/plain": [
              "(array([ 705.,  387.,  186.,  345., 6323.,  150.,  292., 1170.,  256.,\n",
              "         186.]),\n",
              " array([0. , 0.9, 1.8, 2.7, 3.6, 4.5, 5.4, 6.3, 7.2, 8.1, 9. ]),\n",
              " <a list of 10 Patch objects>)"
            ]
          },
          "metadata": {
            "tags": []
          },
          "execution_count": 11
        },
        {
          "output_type": "display_data",
          "data": {
            "image/png": "[encoded data removed]",
            "text/plain": [
              "<Figure size 432x288 with 1 Axes>"
            ]
          },
          "metadata": {
            "tags": [],
            "needs_background": "light"
          }
        }
      ]
    },
    {
      "cell_type": "code",
      "metadata": {
        "id": "E2C1xXIi2aq0"
      },
      "source": [
        ""
      ],
      "execution_count": null,
      "outputs": []
    }
  ]
}